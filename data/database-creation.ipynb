{
 "cells": [
  {
   "cell_type": "code",
   "id": "initial_id",
   "metadata": {
    "collapsed": true,
    "ExecuteTime": {
     "end_time": "2025-05-03T15:12:51.616557Z",
     "start_time": "2025-05-03T15:12:51.613890Z"
    }
   },
   "source": "import sqlite3",
   "outputs": [],
   "execution_count": 9
  },
  {
   "metadata": {
    "ExecuteTime": {
     "end_time": "2025-05-03T15:12:52.425517Z",
     "start_time": "2025-05-03T15:12:52.423068Z"
    }
   },
   "cell_type": "code",
   "source": [
    "conn = sqlite3.connect('/Users/nicolaskossacoff/airflow/airflow.db')\n",
    "cursor = conn.cursor()"
   ],
   "id": "39f26757fdb10974",
   "outputs": [],
   "execution_count": 10
  },
  {
   "metadata": {
    "ExecuteTime": {
     "end_time": "2025-05-03T15:12:53.284165Z",
     "start_time": "2025-05-03T15:12:53.279529Z"
    }
   },
   "cell_type": "code",
   "source": [
    "query_top_products = \"\"\"\n",
    "CREATE TABLE IF NOT EXISTS top_products (\n",
    "    id INTEGER PRIMARY KEY AUTOINCREMENT,\n",
    "    advertiser_id VARCHAR(100),\n",
    "    product_id VARCHAR(100),\n",
    "    date DATE\n",
    ")\n",
    "\"\"\"\n",
    "cursor.execute(query_top_products)"
   ],
   "id": "af9a209230bff025",
   "outputs": [
    {
     "data": {
      "text/plain": [
       "<sqlite3.Cursor at 0x103b99dc0>"
      ]
     },
     "execution_count": 11,
     "metadata": {},
     "output_type": "execute_result"
    }
   ],
   "execution_count": 11
  },
  {
   "metadata": {
    "ExecuteTime": {
     "end_time": "2025-05-03T15:12:54.188992Z",
     "start_time": "2025-05-03T15:12:54.184867Z"
    }
   },
   "cell_type": "code",
   "source": [
    "query_top_ctr = \"\"\"\n",
    "CREATE TABLE IF NOT EXISTS top_ctr_products (\n",
    "    id INTEGER PRIMARY KEY AUTOINCREMENT,\n",
    "    advertiser_id VARCHAR(100),\n",
    "    product_id VARCHAR(100),\n",
    "    date DATE\n",
    ")\n",
    "\"\"\"\n",
    "\n",
    "cursor.execute(query_top_ctr)"
   ],
   "id": "19fd72687e212a4a",
   "outputs": [
    {
     "data": {
      "text/plain": [
       "<sqlite3.Cursor at 0x103b99dc0>"
      ]
     },
     "execution_count": 12,
     "metadata": {},
     "output_type": "execute_result"
    }
   ],
   "execution_count": 12
  },
  {
   "metadata": {
    "ExecuteTime": {
     "end_time": "2025-05-03T15:12:56.894434Z",
     "start_time": "2025-05-03T15:12:56.892145Z"
    }
   },
   "cell_type": "code",
   "source": [
    "conn.commit()\n",
    "conn.close()"
   ],
   "id": "8884c21cb931db56",
   "outputs": [],
   "execution_count": 13
  }
 ],
 "metadata": {
  "kernelspec": {
   "display_name": "Python 3",
   "language": "python",
   "name": "python3"
  },
  "language_info": {
   "codemirror_mode": {
    "name": "ipython",
    "version": 2
   },
   "file_extension": ".py",
   "mimetype": "text/x-python",
   "name": "python",
   "nbconvert_exporter": "python",
   "pygments_lexer": "ipython2",
   "version": "2.7.6"
  }
 },
 "nbformat": 4,
 "nbformat_minor": 5
}
