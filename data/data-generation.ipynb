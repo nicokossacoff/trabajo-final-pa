{
 "cells": [
  {
   "cell_type": "code",
   "id": "783fc00e",
   "metadata": {
    "id": "783fc00e",
    "ExecuteTime": {
     "end_time": "2025-05-02T17:32:29.342255Z",
     "start_time": "2025-05-02T17:32:29.339668Z"
    }
   },
   "source": [
    "import pandas as pd\n",
    "import random\n",
    "import string"
   ],
   "outputs": [],
   "execution_count": 81
  },
  {
   "cell_type": "markdown",
   "id": "fae29868",
   "metadata": {
    "id": "fae29868"
   },
   "source": [
    "Genero 20 advertiser_id activos y 5 inactivos"
   ]
  },
  {
   "cell_type": "code",
   "id": "1e321326",
   "metadata": {
    "id": "1e321326",
    "ExecuteTime": {
     "end_time": "2025-05-02T17:32:29.349221Z",
     "start_time": "2025-05-02T17:32:29.346790Z"
    }
   },
   "source": [
    "random.seed(4)\n",
    "active_advertisers = [''.join(random.choices(string.ascii_uppercase + string.digits, k = 20)) for _ in range(20)]\n",
    "inactive_advertisers = [''.join(random.choices(string.ascii_uppercase + string.digits, k = 20)) for _ in range(5)]\n",
    "all_advertisers = active_advertisers+inactive_advertisers"
   ],
   "outputs": [],
   "execution_count": 82
  },
  {
   "metadata": {
    "ExecuteTime": {
     "end_time": "2025-05-02T17:32:29.363565Z",
     "start_time": "2025-05-02T17:32:29.361180Z"
    }
   },
   "cell_type": "code",
   "source": "inactive_advertisers",
   "id": "7155ac8b7c54a82e",
   "outputs": [
    {
     "data": {
      "text/plain": [
       "['9Z77N44VDW6KX6VBWJ4X',\n",
       " 'L6WM4665XZVS9MCZRTVI',\n",
       " 'HC26ZE93SA4WWA0BRFM6',\n",
       " '03KNVBO915KY2ZPGA57J',\n",
       " '1OW4LWJSBJK6E1D9FDH7']"
      ]
     },
     "execution_count": 83,
     "metadata": {},
     "output_type": "execute_result"
    }
   ],
   "execution_count": 83
  },
  {
   "cell_type": "code",
   "id": "8d4020ed",
   "metadata": {
    "id": "8d4020ed",
    "outputId": "7b900220-f10d-4ddd-8e0c-2ef024c79360",
    "colab": {
     "base_uri": "https://localhost:8080/"
    },
    "executionInfo": {
     "status": "ok",
     "timestamp": 1681427182661,
     "user_tz": 180,
     "elapsed": 15,
     "user": {
      "displayName": "Federico Pousa",
      "userId": "11923140000981592727"
     }
    },
    "ExecuteTime": {
     "end_time": "2025-05-02T17:32:29.378773Z",
     "start_time": "2025-05-02T17:32:29.376792Z"
    }
   },
   "source": [
    "active_advertisers"
   ],
   "outputs": [
    {
     "data": {
      "text/plain": [
       "['IDOFCO721HTJGDH7332G',\n",
       " 'LW045DVYSGRD75TK6U54',\n",
       " 'SOVPFK3BBWKTQM9HOHWJ',\n",
       " 'M0LU6DCI1WILGQBZ6808',\n",
       " 'AK81O7W3KGPEN8LABG2N',\n",
       " 'KD9PHCBGYFBRI9ET1O9R',\n",
       " 'IOBPI63RBJIHI5FB7U9O',\n",
       " '6X20RDH567MX2X3TXYJ7',\n",
       " '8C88YB6E8YCGWU07HA7A',\n",
       " '5E325T5HYL61QSABVR5V',\n",
       " 'EN1SA43DTN2LIR8DEW5S',\n",
       " 'P41C5HK4P2G5GFRMT6ZA',\n",
       " 'LTRZRCI4M19WYVL6Q6L5',\n",
       " '2WPF1NXECF3G6NUMWDO7',\n",
       " 'GXLKAA83238FVRU718EX',\n",
       " 'Y0W3K7OV6ZLILW96OO3K',\n",
       " 'OAGTYWN8WFC997VLDJH7',\n",
       " '62FIK8F2YT8JSFDBLEC9',\n",
       " 'K6Z0X85ZUY0TSF4RCG5J',\n",
       " 'OY5LNPB5A8FF43ITRZG3']"
      ]
     },
     "execution_count": 84,
     "metadata": {},
     "output_type": "execute_result"
    }
   ],
   "execution_count": 84
  },
  {
   "cell_type": "code",
   "id": "fa8aa17f",
   "metadata": {
    "id": "fa8aa17f",
    "ExecuteTime": {
     "end_time": "2025-05-02T17:32:29.427316Z",
     "start_time": "2025-05-02T17:32:29.389558Z"
    }
   },
   "source": "pd.DataFrame(active_advertisers, columns=['advertiser_id']).to_parquet('raw_data/advertiser_ids.parquet', index=False)",
   "outputs": [],
   "execution_count": 85
  },
  {
   "cell_type": "markdown",
   "id": "0901d8ee",
   "metadata": {
    "id": "0901d8ee"
   },
   "source": [
    "Genero un catalogo de 100 productos para cada uno de los advertisables"
   ]
  },
  {
   "cell_type": "code",
   "id": "f14e127e",
   "metadata": {
    "id": "f14e127e",
    "ExecuteTime": {
     "end_time": "2025-05-02T17:32:29.437945Z",
     "start_time": "2025-05-02T17:32:29.433697Z"
    }
   },
   "source": [
    "advertisers_catalogs = {}\n",
    "for advertiser in all_advertisers:\n",
    "    advertisers_catalogs[advertiser] = [''.join(random.choices(string.ascii_lowercase + string.digits, k = 6)) for _ in range(100)]"
   ],
   "outputs": [],
   "execution_count": 86
  },
  {
   "cell_type": "code",
   "id": "29536b71",
   "metadata": {
    "id": "29536b71",
    "ExecuteTime": {
     "end_time": "2025-05-02T17:32:29.460691Z",
     "start_time": "2025-05-02T17:32:29.458700Z"
    }
   },
   "source": "possible_dates = [f'2025-04-{day:01d}' for day in range(28,31)] + [f'2025-05-{day:01d}' for day in range(1,30)]",
   "outputs": [],
   "execution_count": 87
  },
  {
   "cell_type": "code",
   "source": [
    "possible_dates"
   ],
   "metadata": {
    "colab": {
     "base_uri": "https://localhost:8080/"
    },
    "id": "dxChIAYTGAuW",
    "executionInfo": {
     "status": "ok",
     "timestamp": 1714431731852,
     "user_tz": 180,
     "elapsed": 5,
     "user": {
      "displayName": "Agustin Mosteiro",
      "userId": "12832368380375469628"
     }
    },
    "outputId": "666a1ae2-dfd0-4503-926c-98c37f20cc5d",
    "ExecuteTime": {
     "end_time": "2025-05-02T17:32:29.469425Z",
     "start_time": "2025-05-02T17:32:29.467522Z"
    }
   },
   "id": "dxChIAYTGAuW",
   "outputs": [
    {
     "data": {
      "text/plain": [
       "['2025-04-28',\n",
       " '2025-04-29',\n",
       " '2025-04-30',\n",
       " '2025-05-1',\n",
       " '2025-05-2',\n",
       " '2025-05-3',\n",
       " '2025-05-4',\n",
       " '2025-05-5',\n",
       " '2025-05-6',\n",
       " '2025-05-7',\n",
       " '2025-05-8',\n",
       " '2025-05-9',\n",
       " '2025-05-10',\n",
       " '2025-05-11',\n",
       " '2025-05-12',\n",
       " '2025-05-13',\n",
       " '2025-05-14',\n",
       " '2025-05-15',\n",
       " '2025-05-16',\n",
       " '2025-05-17',\n",
       " '2025-05-18',\n",
       " '2025-05-19',\n",
       " '2025-05-20',\n",
       " '2025-05-21',\n",
       " '2025-05-22',\n",
       " '2025-05-23',\n",
       " '2025-05-24',\n",
       " '2025-05-25',\n",
       " '2025-05-26',\n",
       " '2025-05-27',\n",
       " '2025-05-28',\n",
       " '2025-05-29']"
      ]
     },
     "execution_count": 88,
     "metadata": {},
     "output_type": "execute_result"
    }
   ],
   "execution_count": 88
  },
  {
   "cell_type": "markdown",
   "id": "3a70f46f",
   "metadata": {
    "id": "3a70f46f"
   },
   "source": [
    "Genero lineas de vistas de producto"
   ]
  },
  {
   "cell_type": "code",
   "id": "9d9881d6",
   "metadata": {
    "id": "9d9881d6",
    "ExecuteTime": {
     "end_time": "2025-05-02T17:32:29.566847Z",
     "start_time": "2025-05-02T17:32:29.479922Z"
    }
   },
   "source": [
    "product_views = [[advertiser := random.choice(all_advertisers), random.choice(advertisers_catalogs[advertiser]), random.choice(possible_dates)] for _ in range(100_000)]"
   ],
   "outputs": [],
   "execution_count": 89
  },
  {
   "cell_type": "code",
   "id": "a9ad9fb2",
   "metadata": {
    "id": "a9ad9fb2",
    "ExecuteTime": {
     "end_time": "2025-05-02T17:32:29.579360Z",
     "start_time": "2025-05-02T17:32:29.573651Z"
    }
   },
   "source": [
    "df_product_views = pd.DataFrame(product_views, columns=['advertiser_id', 'product_id', 'date'])"
   ],
   "outputs": [],
   "execution_count": 90
  },
  {
   "cell_type": "code",
   "id": "6e325c08",
   "metadata": {
    "id": "6e325c08",
    "ExecuteTime": {
     "end_time": "2025-05-02T17:32:29.614775Z",
     "start_time": "2025-05-02T17:32:29.585962Z"
    }
   },
   "source": [
    "df_product_views = df_product_views.sort_values('date').reset_index(drop=True)"
   ],
   "outputs": [],
   "execution_count": 91
  },
  {
   "cell_type": "code",
   "id": "6b529e6b",
   "metadata": {
    "id": "6b529e6b",
    "outputId": "6b1a783d-452f-4f60-d9a7-a1463d39b4ec",
    "colab": {
     "base_uri": "https://localhost:8080/",
     "height": 677
    },
    "executionInfo": {
     "status": "ok",
     "timestamp": 1681427183167,
     "user_tz": 180,
     "elapsed": 21,
     "user": {
      "displayName": "Federico Pousa",
      "userId": "11923140000981592727"
     }
    },
    "ExecuteTime": {
     "end_time": "2025-05-02T17:32:29.624533Z",
     "start_time": "2025-05-02T17:32:29.621301Z"
    }
   },
   "source": [
    "df_product_views.head(20)"
   ],
   "outputs": [
    {
     "data": {
      "text/plain": [
       "           advertiser_id product_id        date\n",
       "0   OAGTYWN8WFC997VLDJH7     zq9p8p  2025-04-28\n",
       "1   EN1SA43DTN2LIR8DEW5S     wl2x12  2025-04-28\n",
       "2   L6WM4665XZVS9MCZRTVI     0q85gk  2025-04-28\n",
       "3   M0LU6DCI1WILGQBZ6808     voao9k  2025-04-28\n",
       "4   5E325T5HYL61QSABVR5V     fm01zu  2025-04-28\n",
       "5   KD9PHCBGYFBRI9ET1O9R     q90f5s  2025-04-28\n",
       "6   LTRZRCI4M19WYVL6Q6L5     rurlw0  2025-04-28\n",
       "7   03KNVBO915KY2ZPGA57J     evbk8c  2025-04-28\n",
       "8   OAGTYWN8WFC997VLDJH7     w5whka  2025-04-28\n",
       "9   Y0W3K7OV6ZLILW96OO3K     mxxbqr  2025-04-28\n",
       "10  SOVPFK3BBWKTQM9HOHWJ     mffo1x  2025-04-28\n",
       "11  62FIK8F2YT8JSFDBLEC9     ym03om  2025-04-28\n",
       "12  GXLKAA83238FVRU718EX     kfyqwm  2025-04-28\n",
       "13  M0LU6DCI1WILGQBZ6808     voao9k  2025-04-28\n",
       "14  HC26ZE93SA4WWA0BRFM6     cegbkn  2025-04-28\n",
       "15  GXLKAA83238FVRU718EX     uxkhp4  2025-04-28\n",
       "16  M0LU6DCI1WILGQBZ6808     jcq76v  2025-04-28\n",
       "17  K6Z0X85ZUY0TSF4RCG5J     8zq72a  2025-04-28\n",
       "18  GXLKAA83238FVRU718EX     lgue5i  2025-04-28\n",
       "19  SOVPFK3BBWKTQM9HOHWJ     zfozhl  2025-04-28"
      ],
      "text/html": [
       "<div>\n",
       "<style scoped>\n",
       "    .dataframe tbody tr th:only-of-type {\n",
       "        vertical-align: middle;\n",
       "    }\n",
       "\n",
       "    .dataframe tbody tr th {\n",
       "        vertical-align: top;\n",
       "    }\n",
       "\n",
       "    .dataframe thead th {\n",
       "        text-align: right;\n",
       "    }\n",
       "</style>\n",
       "<table border=\"1\" class=\"dataframe\">\n",
       "  <thead>\n",
       "    <tr style=\"text-align: right;\">\n",
       "      <th></th>\n",
       "      <th>advertiser_id</th>\n",
       "      <th>product_id</th>\n",
       "      <th>date</th>\n",
       "    </tr>\n",
       "  </thead>\n",
       "  <tbody>\n",
       "    <tr>\n",
       "      <th>0</th>\n",
       "      <td>OAGTYWN8WFC997VLDJH7</td>\n",
       "      <td>zq9p8p</td>\n",
       "      <td>2025-04-28</td>\n",
       "    </tr>\n",
       "    <tr>\n",
       "      <th>1</th>\n",
       "      <td>EN1SA43DTN2LIR8DEW5S</td>\n",
       "      <td>wl2x12</td>\n",
       "      <td>2025-04-28</td>\n",
       "    </tr>\n",
       "    <tr>\n",
       "      <th>2</th>\n",
       "      <td>L6WM4665XZVS9MCZRTVI</td>\n",
       "      <td>0q85gk</td>\n",
       "      <td>2025-04-28</td>\n",
       "    </tr>\n",
       "    <tr>\n",
       "      <th>3</th>\n",
       "      <td>M0LU6DCI1WILGQBZ6808</td>\n",
       "      <td>voao9k</td>\n",
       "      <td>2025-04-28</td>\n",
       "    </tr>\n",
       "    <tr>\n",
       "      <th>4</th>\n",
       "      <td>5E325T5HYL61QSABVR5V</td>\n",
       "      <td>fm01zu</td>\n",
       "      <td>2025-04-28</td>\n",
       "    </tr>\n",
       "    <tr>\n",
       "      <th>5</th>\n",
       "      <td>KD9PHCBGYFBRI9ET1O9R</td>\n",
       "      <td>q90f5s</td>\n",
       "      <td>2025-04-28</td>\n",
       "    </tr>\n",
       "    <tr>\n",
       "      <th>6</th>\n",
       "      <td>LTRZRCI4M19WYVL6Q6L5</td>\n",
       "      <td>rurlw0</td>\n",
       "      <td>2025-04-28</td>\n",
       "    </tr>\n",
       "    <tr>\n",
       "      <th>7</th>\n",
       "      <td>03KNVBO915KY2ZPGA57J</td>\n",
       "      <td>evbk8c</td>\n",
       "      <td>2025-04-28</td>\n",
       "    </tr>\n",
       "    <tr>\n",
       "      <th>8</th>\n",
       "      <td>OAGTYWN8WFC997VLDJH7</td>\n",
       "      <td>w5whka</td>\n",
       "      <td>2025-04-28</td>\n",
       "    </tr>\n",
       "    <tr>\n",
       "      <th>9</th>\n",
       "      <td>Y0W3K7OV6ZLILW96OO3K</td>\n",
       "      <td>mxxbqr</td>\n",
       "      <td>2025-04-28</td>\n",
       "    </tr>\n",
       "    <tr>\n",
       "      <th>10</th>\n",
       "      <td>SOVPFK3BBWKTQM9HOHWJ</td>\n",
       "      <td>mffo1x</td>\n",
       "      <td>2025-04-28</td>\n",
       "    </tr>\n",
       "    <tr>\n",
       "      <th>11</th>\n",
       "      <td>62FIK8F2YT8JSFDBLEC9</td>\n",
       "      <td>ym03om</td>\n",
       "      <td>2025-04-28</td>\n",
       "    </tr>\n",
       "    <tr>\n",
       "      <th>12</th>\n",
       "      <td>GXLKAA83238FVRU718EX</td>\n",
       "      <td>kfyqwm</td>\n",
       "      <td>2025-04-28</td>\n",
       "    </tr>\n",
       "    <tr>\n",
       "      <th>13</th>\n",
       "      <td>M0LU6DCI1WILGQBZ6808</td>\n",
       "      <td>voao9k</td>\n",
       "      <td>2025-04-28</td>\n",
       "    </tr>\n",
       "    <tr>\n",
       "      <th>14</th>\n",
       "      <td>HC26ZE93SA4WWA0BRFM6</td>\n",
       "      <td>cegbkn</td>\n",
       "      <td>2025-04-28</td>\n",
       "    </tr>\n",
       "    <tr>\n",
       "      <th>15</th>\n",
       "      <td>GXLKAA83238FVRU718EX</td>\n",
       "      <td>uxkhp4</td>\n",
       "      <td>2025-04-28</td>\n",
       "    </tr>\n",
       "    <tr>\n",
       "      <th>16</th>\n",
       "      <td>M0LU6DCI1WILGQBZ6808</td>\n",
       "      <td>jcq76v</td>\n",
       "      <td>2025-04-28</td>\n",
       "    </tr>\n",
       "    <tr>\n",
       "      <th>17</th>\n",
       "      <td>K6Z0X85ZUY0TSF4RCG5J</td>\n",
       "      <td>8zq72a</td>\n",
       "      <td>2025-04-28</td>\n",
       "    </tr>\n",
       "    <tr>\n",
       "      <th>18</th>\n",
       "      <td>GXLKAA83238FVRU718EX</td>\n",
       "      <td>lgue5i</td>\n",
       "      <td>2025-04-28</td>\n",
       "    </tr>\n",
       "    <tr>\n",
       "      <th>19</th>\n",
       "      <td>SOVPFK3BBWKTQM9HOHWJ</td>\n",
       "      <td>zfozhl</td>\n",
       "      <td>2025-04-28</td>\n",
       "    </tr>\n",
       "  </tbody>\n",
       "</table>\n",
       "</div>"
      ]
     },
     "execution_count": 92,
     "metadata": {},
     "output_type": "execute_result"
    }
   ],
   "execution_count": 92
  },
  {
   "cell_type": "code",
   "id": "82920f82",
   "metadata": {
    "id": "82920f82",
    "ExecuteTime": {
     "end_time": "2025-05-02T17:32:29.663130Z",
     "start_time": "2025-05-02T17:32:29.648009Z"
    }
   },
   "source": "df_product_views.to_parquet('raw_data/product_views.parquet', index=False)",
   "outputs": [],
   "execution_count": 93
  },
  {
   "cell_type": "markdown",
   "id": "59a5441f",
   "metadata": {
    "id": "59a5441f"
   },
   "source": [
    "Genero lineas de vistas de ads"
   ]
  },
  {
   "cell_type": "code",
   "id": "000c1cec",
   "metadata": {
    "id": "000c1cec",
    "ExecuteTime": {
     "end_time": "2025-05-02T17:32:29.886255Z",
     "start_time": "2025-05-02T17:32:29.688860Z"
    }
   },
   "source": [
    "ads_views = [[advertiser := random.choice(all_advertisers), random.choice(advertisers_catalogs[advertiser]), random.choices(['impression', 'click'], weights=[99, 1])[0], random.choice(possible_dates)] for _ in range(100_000)]"
   ],
   "outputs": [],
   "execution_count": 94
  },
  {
   "cell_type": "code",
   "id": "4808515d",
   "metadata": {
    "id": "4808515d",
    "ExecuteTime": {
     "end_time": "2025-05-02T17:32:29.905120Z",
     "start_time": "2025-05-02T17:32:29.897333Z"
    }
   },
   "source": [
    "df_ads_views = pd.DataFrame(ads_views, columns=['advertiser_id', 'product_id', 'type', 'date'])"
   ],
   "outputs": [],
   "execution_count": 95
  },
  {
   "cell_type": "code",
   "id": "1243bec6",
   "metadata": {
    "id": "1243bec6",
    "ExecuteTime": {
     "end_time": "2025-05-02T17:32:29.941025Z",
     "start_time": "2025-05-02T17:32:29.912376Z"
    }
   },
   "source": [
    "df_ads_views = df_ads_views.sort_values('date').reset_index(drop=True)"
   ],
   "outputs": [],
   "execution_count": 96
  },
  {
   "cell_type": "code",
   "id": "317bde80",
   "metadata": {
    "id": "317bde80",
    "outputId": "127497cd-b18c-43b7-9476-60a26b4058d2",
    "colab": {
     "base_uri": "https://localhost:8080/",
     "height": 677
    },
    "executionInfo": {
     "status": "ok",
     "timestamp": 1681427184633,
     "user_tz": 180,
     "elapsed": 17,
     "user": {
      "displayName": "Federico Pousa",
      "userId": "11923140000981592727"
     }
    },
    "ExecuteTime": {
     "end_time": "2025-05-02T17:32:29.952834Z",
     "start_time": "2025-05-02T17:32:29.948714Z"
    }
   },
   "source": [
    "df_ads_views.head(20)"
   ],
   "outputs": [
    {
     "data": {
      "text/plain": [
       "           advertiser_id product_id        type        date\n",
       "0   HC26ZE93SA4WWA0BRFM6     iknah3  impression  2025-04-28\n",
       "1   HC26ZE93SA4WWA0BRFM6     lduscu  impression  2025-04-28\n",
       "2   5E325T5HYL61QSABVR5V     uq90rn  impression  2025-04-28\n",
       "3   KD9PHCBGYFBRI9ET1O9R     jtopgr  impression  2025-04-28\n",
       "4   EN1SA43DTN2LIR8DEW5S     cwqufg  impression  2025-04-28\n",
       "5   IDOFCO721HTJGDH7332G     f4skmk  impression  2025-04-28\n",
       "6   IDOFCO721HTJGDH7332G     8y08ql  impression  2025-04-28\n",
       "7   P41C5HK4P2G5GFRMT6ZA     ahsif0  impression  2025-04-28\n",
       "8   03KNVBO915KY2ZPGA57J     ir7m6o  impression  2025-04-28\n",
       "9   6X20RDH567MX2X3TXYJ7     vr2n94  impression  2025-04-28\n",
       "10  AK81O7W3KGPEN8LABG2N     kgq2qd  impression  2025-04-28\n",
       "11  1OW4LWJSBJK6E1D9FDH7     pdem7x  impression  2025-04-28\n",
       "12  P41C5HK4P2G5GFRMT6ZA     5zj8y3  impression  2025-04-28\n",
       "13  K6Z0X85ZUY0TSF4RCG5J     fccgmo  impression  2025-04-28\n",
       "14  2WPF1NXECF3G6NUMWDO7     5u0fz3  impression  2025-04-28\n",
       "15  6X20RDH567MX2X3TXYJ7     kcy4nn  impression  2025-04-28\n",
       "16  L6WM4665XZVS9MCZRTVI     lotlgy  impression  2025-04-28\n",
       "17  62FIK8F2YT8JSFDBLEC9     ksce41  impression  2025-04-28\n",
       "18  62FIK8F2YT8JSFDBLEC9     bj5x9v  impression  2025-04-28\n",
       "19  2WPF1NXECF3G6NUMWDO7     enci0h  impression  2025-04-28"
      ],
      "text/html": [
       "<div>\n",
       "<style scoped>\n",
       "    .dataframe tbody tr th:only-of-type {\n",
       "        vertical-align: middle;\n",
       "    }\n",
       "\n",
       "    .dataframe tbody tr th {\n",
       "        vertical-align: top;\n",
       "    }\n",
       "\n",
       "    .dataframe thead th {\n",
       "        text-align: right;\n",
       "    }\n",
       "</style>\n",
       "<table border=\"1\" class=\"dataframe\">\n",
       "  <thead>\n",
       "    <tr style=\"text-align: right;\">\n",
       "      <th></th>\n",
       "      <th>advertiser_id</th>\n",
       "      <th>product_id</th>\n",
       "      <th>type</th>\n",
       "      <th>date</th>\n",
       "    </tr>\n",
       "  </thead>\n",
       "  <tbody>\n",
       "    <tr>\n",
       "      <th>0</th>\n",
       "      <td>HC26ZE93SA4WWA0BRFM6</td>\n",
       "      <td>iknah3</td>\n",
       "      <td>impression</td>\n",
       "      <td>2025-04-28</td>\n",
       "    </tr>\n",
       "    <tr>\n",
       "      <th>1</th>\n",
       "      <td>HC26ZE93SA4WWA0BRFM6</td>\n",
       "      <td>lduscu</td>\n",
       "      <td>impression</td>\n",
       "      <td>2025-04-28</td>\n",
       "    </tr>\n",
       "    <tr>\n",
       "      <th>2</th>\n",
       "      <td>5E325T5HYL61QSABVR5V</td>\n",
       "      <td>uq90rn</td>\n",
       "      <td>impression</td>\n",
       "      <td>2025-04-28</td>\n",
       "    </tr>\n",
       "    <tr>\n",
       "      <th>3</th>\n",
       "      <td>KD9PHCBGYFBRI9ET1O9R</td>\n",
       "      <td>jtopgr</td>\n",
       "      <td>impression</td>\n",
       "      <td>2025-04-28</td>\n",
       "    </tr>\n",
       "    <tr>\n",
       "      <th>4</th>\n",
       "      <td>EN1SA43DTN2LIR8DEW5S</td>\n",
       "      <td>cwqufg</td>\n",
       "      <td>impression</td>\n",
       "      <td>2025-04-28</td>\n",
       "    </tr>\n",
       "    <tr>\n",
       "      <th>5</th>\n",
       "      <td>IDOFCO721HTJGDH7332G</td>\n",
       "      <td>f4skmk</td>\n",
       "      <td>impression</td>\n",
       "      <td>2025-04-28</td>\n",
       "    </tr>\n",
       "    <tr>\n",
       "      <th>6</th>\n",
       "      <td>IDOFCO721HTJGDH7332G</td>\n",
       "      <td>8y08ql</td>\n",
       "      <td>impression</td>\n",
       "      <td>2025-04-28</td>\n",
       "    </tr>\n",
       "    <tr>\n",
       "      <th>7</th>\n",
       "      <td>P41C5HK4P2G5GFRMT6ZA</td>\n",
       "      <td>ahsif0</td>\n",
       "      <td>impression</td>\n",
       "      <td>2025-04-28</td>\n",
       "    </tr>\n",
       "    <tr>\n",
       "      <th>8</th>\n",
       "      <td>03KNVBO915KY2ZPGA57J</td>\n",
       "      <td>ir7m6o</td>\n",
       "      <td>impression</td>\n",
       "      <td>2025-04-28</td>\n",
       "    </tr>\n",
       "    <tr>\n",
       "      <th>9</th>\n",
       "      <td>6X20RDH567MX2X3TXYJ7</td>\n",
       "      <td>vr2n94</td>\n",
       "      <td>impression</td>\n",
       "      <td>2025-04-28</td>\n",
       "    </tr>\n",
       "    <tr>\n",
       "      <th>10</th>\n",
       "      <td>AK81O7W3KGPEN8LABG2N</td>\n",
       "      <td>kgq2qd</td>\n",
       "      <td>impression</td>\n",
       "      <td>2025-04-28</td>\n",
       "    </tr>\n",
       "    <tr>\n",
       "      <th>11</th>\n",
       "      <td>1OW4LWJSBJK6E1D9FDH7</td>\n",
       "      <td>pdem7x</td>\n",
       "      <td>impression</td>\n",
       "      <td>2025-04-28</td>\n",
       "    </tr>\n",
       "    <tr>\n",
       "      <th>12</th>\n",
       "      <td>P41C5HK4P2G5GFRMT6ZA</td>\n",
       "      <td>5zj8y3</td>\n",
       "      <td>impression</td>\n",
       "      <td>2025-04-28</td>\n",
       "    </tr>\n",
       "    <tr>\n",
       "      <th>13</th>\n",
       "      <td>K6Z0X85ZUY0TSF4RCG5J</td>\n",
       "      <td>fccgmo</td>\n",
       "      <td>impression</td>\n",
       "      <td>2025-04-28</td>\n",
       "    </tr>\n",
       "    <tr>\n",
       "      <th>14</th>\n",
       "      <td>2WPF1NXECF3G6NUMWDO7</td>\n",
       "      <td>5u0fz3</td>\n",
       "      <td>impression</td>\n",
       "      <td>2025-04-28</td>\n",
       "    </tr>\n",
       "    <tr>\n",
       "      <th>15</th>\n",
       "      <td>6X20RDH567MX2X3TXYJ7</td>\n",
       "      <td>kcy4nn</td>\n",
       "      <td>impression</td>\n",
       "      <td>2025-04-28</td>\n",
       "    </tr>\n",
       "    <tr>\n",
       "      <th>16</th>\n",
       "      <td>L6WM4665XZVS9MCZRTVI</td>\n",
       "      <td>lotlgy</td>\n",
       "      <td>impression</td>\n",
       "      <td>2025-04-28</td>\n",
       "    </tr>\n",
       "    <tr>\n",
       "      <th>17</th>\n",
       "      <td>62FIK8F2YT8JSFDBLEC9</td>\n",
       "      <td>ksce41</td>\n",
       "      <td>impression</td>\n",
       "      <td>2025-04-28</td>\n",
       "    </tr>\n",
       "    <tr>\n",
       "      <th>18</th>\n",
       "      <td>62FIK8F2YT8JSFDBLEC9</td>\n",
       "      <td>bj5x9v</td>\n",
       "      <td>impression</td>\n",
       "      <td>2025-04-28</td>\n",
       "    </tr>\n",
       "    <tr>\n",
       "      <th>19</th>\n",
       "      <td>2WPF1NXECF3G6NUMWDO7</td>\n",
       "      <td>enci0h</td>\n",
       "      <td>impression</td>\n",
       "      <td>2025-04-28</td>\n",
       "    </tr>\n",
       "  </tbody>\n",
       "</table>\n",
       "</div>"
      ]
     },
     "execution_count": 97,
     "metadata": {},
     "output_type": "execute_result"
    }
   ],
   "execution_count": 97
  },
  {
   "cell_type": "code",
   "id": "f7a9a5af",
   "metadata": {
    "id": "f7a9a5af",
    "ExecuteTime": {
     "end_time": "2025-05-02T17:32:29.995938Z",
     "start_time": "2025-05-02T17:32:29.977758Z"
    }
   },
   "source": "df_ads_views.to_parquet('raw_data/ads_views.parquet', index=False)",
   "outputs": [],
   "execution_count": 98
  }
 ],
 "metadata": {
  "kernelspec": {
   "display_name": "Python 3 (ipykernel)",
   "language": "python",
   "name": "python3"
  },
  "language_info": {
   "codemirror_mode": {
    "name": "ipython",
    "version": 3
   },
   "file_extension": ".py",
   "mimetype": "text/x-python",
   "name": "python",
   "nbconvert_exporter": "python",
   "pygments_lexer": "ipython3",
   "version": "3.8.10"
  },
  "colab": {
   "provenance": []
  }
 },
 "nbformat": 4,
 "nbformat_minor": 5
}
